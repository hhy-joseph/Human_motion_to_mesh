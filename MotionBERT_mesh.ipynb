{
  "cells": [
    {
      "cell_type": "markdown",
      "source": [
        "This notebook shows example usage of Mesh Recovery from [MotionBert](https://github.com/Walter0807/MotionBERT). \n",
        "\n",
        "This notebook assumed that the required data and models are saved in your Google Drive in a folder named motionBERT (/content/gdrive/MyDrive/motionBERT/). \n",
        "\n",
        "You need to make sure you have used AlphaPose to extract the 2D keypoints for your video. \n",
        "\n",
        "[2D Pose](https://github.com/Walter0807/MotionBERT/blob/main/docs/inference.md)\n",
        "\n",
        "Files needed to download (only mesh related stuff are needed):\n",
        "\n",
        "[SMPL and joint regressors](https://github.com/Walter0807/MotionBERT/blob/main/docs/mesh.md)\n",
        "\n",
        "[model checkpoint](https://github.com/Walter0807/MotionBERT/blob/main/docs/inference.md)\n",
        "\n"
      ],
      "metadata": {
        "id": "I_TPRiFpnfyf"
      }
    },
    {
      "cell_type": "code",
      "source": [
        "# install python 3.7 as installation guided in MotionBERT repository\n",
        "!sudo apt-get install python3.7\n",
        "!sudo apt-get update -y"
      ],
      "metadata": {
        "id": "D1tmqs4ij--r"
      },
      "execution_count": null,
      "outputs": []
    },
    {
      "cell_type": "code",
      "source": [
        "# Enter number of python 3.7 then press enter\n",
        "!sudo update-alternatives --install /usr/bin/python3 python3 /usr/bin/python3.7 1\n",
        "!sudo update-alternatives --config python3"
      ],
      "metadata": {
        "id": "dgFLHPec62sT",
        "colab": {
          "base_uri": "https://localhost:8080/"
        },
        "outputId": "57ce089f-b644-4abe-af56-8a9c81555ae2"
      },
      "execution_count": null,
      "outputs": [
        {
          "output_type": "stream",
          "name": "stdout",
          "text": [
            "There are 3 choices for the alternative python3 (providing /usr/bin/python3).\n",
            "\n",
            "  Selection    Path                 Priority   Status\n",
            "------------------------------------------------------------\n",
            "* 0            /usr/bin/python3.10   2         auto mode\n",
            "  1            /usr/bin/python3.10   2         manual mode\n",
            "  2            /usr/bin/python3.7    1         manual mode\n",
            "  3            /usr/bin/python3.8    1         manual mode\n",
            "\n",
            "Press <enter> to keep the current choice[*], or type selection number: 2\n",
            "update-alternatives: using /usr/bin/python3.7 to provide /usr/bin/python3 (python3) in manual mode\n"
          ]
        }
      ]
    },
    {
      "cell_type": "code",
      "source": [
        "# Check python version and install pip\n",
        "!python3 --version\n",
        "!sudo apt install python3-pip"
      ],
      "metadata": {
        "id": "hpHWvAv6kQZr"
      },
      "execution_count": null,
      "outputs": []
    },
    {
      "cell_type": "code",
      "execution_count": null,
      "metadata": {
        "id": "Vinq86aUWHZm",
        "colab": {
          "base_uri": "https://localhost:8080/"
        },
        "outputId": "6b674fa8-da39-4d74-badd-6b7ec412f7c0"
      },
      "outputs": [
        {
          "output_type": "stream",
          "name": "stdout",
          "text": [
            "Cloning into 'MotionBERT'...\n",
            "remote: Enumerating objects: 184, done.\u001b[K\n",
            "remote: Counting objects: 100% (184/184), done.\u001b[K\n",
            "remote: Compressing objects: 100% (112/112), done.\u001b[K\n",
            "remote: Total 184 (delta 92), reused 147 (delta 67), pack-reused 0\u001b[K\n",
            "Receiving objects: 100% (184/184), 95.45 KiB | 13.63 MiB/s, done.\n",
            "Resolving deltas: 100% (92/92), done.\n"
          ]
        }
      ],
      "source": [
        "# Clone repo\n",
        "!git clone https://github.com/Walter0807/MotionBERT.git"
      ]
    },
    {
      "cell_type": "code",
      "source": [
        "!sudo apt install python3.7-distutils"
      ],
      "metadata": {
        "colab": {
          "base_uri": "https://localhost:8080/"
        },
        "id": "nKfD12um72-b",
        "outputId": "cfb4af12-e305-4ac8-f86c-837d890fe2dc"
      },
      "execution_count": null,
      "outputs": [
        {
          "output_type": "stream",
          "name": "stdout",
          "text": [
            "Reading package lists... Done\n",
            "Building dependency tree       \n",
            "Reading state information... Done\n",
            "python3.7-distutils is already the newest version (3.7.16-1+focal1).\n",
            "0 upgraded, 0 newly installed, 0 to remove and 27 not upgraded.\n"
          ]
        }
      ]
    },
    {
      "cell_type": "code",
      "source": [
        "# Install required packages\n",
        "!pip install torch torchvision torchaudio -f https://download.pytorch.org/whl/cu102/torch_stable.html"
      ],
      "metadata": {
        "id": "xX8r9wuc8G9z"
      },
      "execution_count": null,
      "outputs": []
    },
    {
      "cell_type": "code",
      "source": [
        "# Install required packages\n",
        "! pip install -r requirements.txt"
      ],
      "metadata": {
        "id": "v8TGpqQehZY2"
      },
      "execution_count": null,
      "outputs": []
    },
    {
      "cell_type": "code",
      "source": [
        "! pip install pyyaml"
      ],
      "metadata": {
        "colab": {
          "base_uri": "https://localhost:8080/"
        },
        "id": "lTteUgyc7mVa",
        "outputId": "a4d426a8-f8ca-4371-8ad1-44ca80d3477a"
      },
      "execution_count": null,
      "outputs": [
        {
          "output_type": "stream",
          "name": "stdout",
          "text": [
            "Looking in indexes: https://pypi.org/simple, https://us-python.pkg.dev/colab-wheels/public/simple/\n",
            "Requirement already satisfied: pyyaml in /usr/local/lib/python3.7/dist-packages (6.0)\n"
          ]
        }
      ]
    },
    {
      "cell_type": "code",
      "source": [
        "# mount to your Google drive\n",
        "from google.colab import drive\n",
        "drive.mount('/content/gdrive')"
      ],
      "metadata": {
        "colab": {
          "base_uri": "https://localhost:8080/"
        },
        "id": "CuksF0S0YVPj",
        "outputId": "236d261a-62e0-4e73-d8b9-d17a2d34ecba"
      },
      "execution_count": null,
      "outputs": [
        {
          "output_type": "stream",
          "name": "stdout",
          "text": [
            "Mounted at /content/gdrive\n"
          ]
        }
      ]
    },
    {
      "cell_type": "code",
      "execution_count": null,
      "metadata": {
        "id": "wFJt_qCdWId8"
      },
      "outputs": [],
      "source": [
        "# go into working directory\n",
        "import os \n",
        "os.chdir('/content/MotionBERT')"
      ]
    },
    {
      "cell_type": "code",
      "execution_count": null,
      "metadata": {
        "id": "xR1IF1rWWKXE"
      },
      "outputs": [],
      "source": [
        "# Define the directory path\n",
        "dir_path = \"checkpoint/mesh/FT_MB_release_MB_ft_pw3d/\"\n",
        "\n",
        "# Create the directory if it does not already exist\n",
        "if not os.path.exists(dir_path):\n",
        "    os.makedirs(dir_path)"
      ]
    },
    {
      "cell_type": "markdown",
      "source": [
        "best_epoch.bin is from [checkpoint file](https://github.com/Walter0807/MotionBERT/blob/main/docs/inference.md)\n",
        "\n",
        "Please download the checkpoint here and put it to checkpoint/mesh/FT_MB_release_MB_ft_pw3d/"
      ],
      "metadata": {
        "id": "N6sR8lorpM87"
      }
    },
    {
      "cell_type": "code",
      "source": [
        "# Copy checkpoint to working directory\n",
        "! cp /content/gdrive/MyDrive/motionBERT/best_epoch.bin ./checkpoint/mesh/FT_MB_release_MB_ft_pw3d/"
      ],
      "metadata": {
        "id": "M4Y3_L-07_M3"
      },
      "execution_count": null,
      "outputs": []
    },
    {
      "cell_type": "code",
      "source": [
        "# Define the directory path\n",
        "dir_path = \"data/mesh/\"\n",
        "# Create the directory if it does not already exist\n",
        "if not os.path.exists(dir_path):\n",
        "    os.makedirs(dir_path)"
      ],
      "metadata": {
        "id": "iDWtG20S7_7G"
      },
      "execution_count": null,
      "outputs": []
    },
    {
      "cell_type": "markdown",
      "source": [
        "Copying files to working directory\n",
        "\n",
        "Files in this section is from https://github.com/Walter0807/MotionBERT/blob/main/docs/mesh.md"
      ],
      "metadata": {
        "id": "bxtZK3m-p1VH"
      }
    },
    {
      "cell_type": "code",
      "source": [
        "! cp /content/gdrive/MyDrive/motionBERT/SMPL_NEUTRAL.pkl ./data/mesh/\n",
        "! cp /content/gdrive/MyDrive/motionBERT/mesh_det_pw3d.pkl ./data/mesh/\n",
        "! cp /content/gdrive/MyDrive/motionBERT/mesh_det_h36m.pkl ./data/mesh/\n",
        "! cp /content/gdrive/MyDrive/motionBERT/mesh_det_coco.pkl ./data/mesh/\n",
        "! cp /content/gdrive/MyDrive/motionBERT/J_regressor_h36m_correct.npy ./data/mesh/\n",
        "! cp /content/gdrive/MyDrive/motionBERT/J_regressor_extra.npy ./data/mesh/\n",
        "! cp /content/gdrive/MyDrive/motionBERT/h36m_mean_smpl.npz ./data/mesh/\n",
        "! cp -r /content/gdrive/MyDrive/motionBERT/mesh_hybrik ./data/mesh/"
      ],
      "metadata": {
        "id": "Nvv4Gf4v517M"
      },
      "execution_count": null,
      "outputs": []
    },
    {
      "cell_type": "markdown",
      "source": [
        "MotionBERT didn't provide smpl_mean_params.npz, so we download it from OPENMMLab\n",
        "\n",
        "https://mmhuman3d.readthedocs.io/en/latest/getting_started.html"
      ],
      "metadata": {
        "id": "OJKfKPx5qY1M"
      }
    },
    {
      "cell_type": "code",
      "source": [
        "! cp /content/gdrive/MyDrive/motionBERT/smpl_mean_params.npz ./data/mesh/"
      ],
      "metadata": {
        "id": "KjPaYH3W__VT"
      },
      "execution_count": null,
      "outputs": []
    },
    {
      "cell_type": "markdown",
      "source": [
        "Copy my video from Google Drive to working directory\n",
        "We have created a sub-directory called video in Google Drive"
      ],
      "metadata": {
        "id": "pZl91xLnGo1r"
      }
    },
    {
      "cell_type": "code",
      "source": [
        "! cp /content/gdrive/MyDrive/motionBERT/video/kt2.mp4 ./data/mesh/\n",
        "! cp /content/gdrive/MyDrive/motionBERT/video/kt_alphapose-results.json ./data/mesh/"
      ],
      "metadata": {
        "id": "yv9F8DyY51-M"
      },
      "execution_count": null,
      "outputs": []
    },
    {
      "cell_type": "code",
      "execution_count": null,
      "metadata": {
        "id": "W1uqPp9tWrom",
        "colab": {
          "base_uri": "https://localhost:8080/"
        },
        "outputId": "388a138d-db16-4b1d-e967-3961441f4981"
      },
      "outputs": [
        {
          "output_type": "stream",
          "name": "stdout",
          "text": [
            "WARNING: You are using a SMPL model, with only 10 shape coefficients.\n",
            "init backbone time: 1.429643s\n",
            "WARNING: You are using a SMPL model, with only 10 shape coefficients.\n",
            "init whole model time: 0.413051s\n",
            "Loading checkpoint checkpoint/mesh/FT_MB_release_MB_ft_pw3d/best_epoch.bin\n",
            "/usr/local/lib/python3.7/dist-packages/torch/utils/data/dataloader.py:557: UserWarning: This DataLoader will create 8 worker processes in total. Our suggested max number of worker in current system is 2, which is smaller than what this DataLoader is going to create. Please be aware that excessive worker creation might get DataLoader running slow or even freeze, lower the worker number to avoid potential slowness/freeze if necessary.\n",
            "  cpuset_checked))\n",
            "100% 1/1 [00:03<00:00,  3.51s/it]\n",
            "WARNING: You are using a SMPL model, with only 10 shape coefficients.\n",
            "100% 188/188 [05:27<00:00,  1.74s/it]\n"
          ]
        }
      ],
      "source": [
        "!python infer_wild_mesh.py --vid_path ./data/mesh/kt2.mp4 --json_path ./data/mesh/kt_alphapose-results.json --out_path /content/MotionBERT"
      ]
    },
    {
      "cell_type": "markdown",
      "source": [
        "Copy mesh video to your google drive"
      ],
      "metadata": {
        "id": "lKS-5z_qqrm9"
      }
    },
    {
      "cell_type": "code",
      "source": [
        "! cp /content/MotionBERT/mesh.mp4 /content/gdrive/MyDrive/motionBERT/video/"
      ],
      "metadata": {
        "id": "DikMMsjyj2VJ"
      },
      "execution_count": null,
      "outputs": []
    },
    {
      "cell_type": "code",
      "source": [],
      "metadata": {
        "id": "CSkbHX18L3B7"
      },
      "execution_count": null,
      "outputs": []
    }
  ],
  "metadata": {
    "accelerator": "GPU",
    "colab": {
      "provenance": []
    },
    "gpuClass": "standard",
    "kernelspec": {
      "display_name": "Python 3",
      "name": "python3"
    },
    "language_info": {
      "name": "python"
    }
  },
  "nbformat": 4,
  "nbformat_minor": 0
}
